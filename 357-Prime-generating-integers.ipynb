{
  "nbformat": 4,
  "nbformat_minor": 0,
  "metadata": {
    "colab": {
      "name": "357-Prime-generating-integers.ipynb",
      "provenance": [],
      "authorship_tag": "ABX9TyO43qiKgUJRpxrnoGD4oCor",
      "include_colab_link": true
    },
    "kernelspec": {
      "name": "python3",
      "display_name": "Python 3"
    },
    "language_info": {
      "name": "python"
    }
  },
  "cells": [
    {
      "cell_type": "markdown",
      "metadata": {
        "id": "view-in-github",
        "colab_type": "text"
      },
      "source": [
        "<a href=\"https://colab.research.google.com/github/traengvoo/Project-Euler/blob/main/357_Prime_generating_integers.ipynb\" target=\"_parent\"><img src=\"https://colab.research.google.com/assets/colab-badge.svg\" alt=\"Open In Colab\"/></a>"
      ]
    },
    {
      "cell_type": "code",
      "metadata": {
        "id": "L-ZTyF7ugX4C"
      },
      "source": [
        "import primesieve\n",
        "import math\n",
        "import time"
      ],
      "execution_count": 1,
      "outputs": []
    },
    {
      "cell_type": "code",
      "metadata": {
        "colab": {
          "base_uri": "https://localhost:8080/"
        },
        "id": "67cg-aaYYwTs",
        "outputId": "1d5cf76d-72d9-458d-f43e-87dc24b03811"
      },
      "source": [
        "primes = set(primesieve.primes(100000001))\n",
        "\n",
        "not_res = []\n",
        "for num in range(2, 100000001):\n",
        "  for divisor in range(1,int(math.sqrt(num)+1)):\n",
        "    if num%divisor==0:\n",
        "      temp = divisor+int(num/divisor)\n",
        "      if temp not in primes:\n",
        "        not_res.append(num)\n",
        "        break\n",
        "\n",
        "nums = [i for i in range(100000001)]\n",
        "print(sum(nums)-sum(not_res))"
      ],
      "execution_count": 2,
      "outputs": [
        {
          "output_type": "stream",
          "text": [
            "1739023853137\n"
          ],
          "name": "stdout"
        }
      ]
    }
  ]
}
